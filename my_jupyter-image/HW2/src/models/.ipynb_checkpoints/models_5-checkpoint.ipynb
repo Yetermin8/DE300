{
 "cells": [
  {
   "cell_type": "code",
   "execution_count": 1,
   "id": "a3c0d049-3d31-4e90-87dc-db6d03d24b43",
   "metadata": {},
   "outputs": [],
   "source": [
    "import pandas as pd\n",
    "import numpy as np\n",
    "from sklearn.model_selection import train_test_split, GridSearchCV\n",
    "from sklearn.preprocessing import StandardScaler, PolynomialFeatures\n",
    "from sklearn.ensemble import RandomForestClassifier, GradientBoostingClassifier\n",
    "from sklearn.linear_model import LogisticRegression\n",
    "from sklearn.metrics import accuracy_score, classification_report, confusion_matrix\n",
    "import joblib"
   ]
  },
  {
   "cell_type": "code",
   "execution_count": 2,
   "id": "ed864bb6-4edc-44af-a739-a202b6213446",
   "metadata": {},
   "outputs": [
    {
     "name": "stdout",
     "output_type": "stream",
     "text": [
      "Training Logistic Regression... Best parameters: {'C': 0.01, 'solver': 'liblinear'} Best CV score: 0.815\n",
      "Training Random Forest... Best parameters: {'max_depth': None, 'min_samples_split': 10, 'n_estimators': 200} Best CV score: 0.812\n",
      "Training Gradient Boosting... Best parameters: {'learning_rate': 0.1, 'max_depth': 3, 'n_estimators': 100} Best CV score: 0.805\n",
      "\n",
      "Best Model: Gradient Boosting\n"
     ]
    },
    {
     "ename": "NameError",
     "evalue": "name 'best_grid_search' is not defined",
     "output_type": "error",
     "traceback": [
      "\u001b[0;31m---------------------------------------------------------------------------\u001b[0m",
      "\u001b[0;31mNameError\u001b[0m                                 Traceback (most recent call last)",
      "Cell \u001b[0;32mIn[2], line 71\u001b[0m\n\u001b[1;32m     69\u001b[0m \u001b[38;5;66;03m# Print results for the best model\u001b[39;00m\n\u001b[1;32m     70\u001b[0m \u001b[38;5;28mprint\u001b[39m(\u001b[38;5;124mf\u001b[39m\u001b[38;5;124m\"\u001b[39m\u001b[38;5;130;01m\\n\u001b[39;00m\u001b[38;5;124mBest Model: \u001b[39m\u001b[38;5;132;01m{\u001b[39;00mbest_overall_model\u001b[38;5;132;01m}\u001b[39;00m\u001b[38;5;124m\"\u001b[39m)\n\u001b[0;32m---> 71\u001b[0m \u001b[38;5;28mprint\u001b[39m(\u001b[38;5;124mf\u001b[39m\u001b[38;5;124m\"\u001b[39m\u001b[38;5;124mBest Model Parameters: \u001b[39m\u001b[38;5;132;01m{\u001b[39;00m\u001b[43mbest_grid_search\u001b[49m\u001b[38;5;241m.\u001b[39mbest_params_\u001b[38;5;132;01m}\u001b[39;00m\u001b[38;5;124m\"\u001b[39m)\n\u001b[1;32m     72\u001b[0m \u001b[38;5;28mprint\u001b[39m(\u001b[38;5;124mf\u001b[39m\u001b[38;5;124m\"\u001b[39m\u001b[38;5;124mBest Cross-Validation Score: \u001b[39m\u001b[38;5;132;01m{\u001b[39;00mbest_grid_search\u001b[38;5;241m.\u001b[39mbest_score_\u001b[38;5;132;01m:\u001b[39;00m\u001b[38;5;124m.3f\u001b[39m\u001b[38;5;132;01m}\u001b[39;00m\u001b[38;5;124m\"\u001b[39m)\n\u001b[1;32m     73\u001b[0m \u001b[38;5;28mprint\u001b[39m(\u001b[38;5;124mf\u001b[39m\u001b[38;5;124m\"\u001b[39m\u001b[38;5;124mAccuracy: \u001b[39m\u001b[38;5;132;01m{\u001b[39;00maccuracy\u001b[38;5;132;01m:\u001b[39;00m\u001b[38;5;124m.3f\u001b[39m\u001b[38;5;132;01m}\u001b[39;00m\u001b[38;5;124m\"\u001b[39m)\n",
      "\u001b[0;31mNameError\u001b[0m: name 'best_grid_search' is not defined"
     ]
    }
   ],
   "source": [
    "# Load your dataset\n",
    "data = pd.read_csv('~/data/heart_disease_cleaned.csv')\n",
    "\n",
    "# Apply transformations to skewed variables\n",
    "data['log_smoke'] = np.log1p(data['smoke'])  # Assuming 'smoke' was identified as skewed\n",
    "data['sqrt_oldpeak'] = np.sqrt(data['oldpeak'])  # Assuming 'oldpeak' was skewed\n",
    "\n",
    "# Create interaction terms for highly correlated variables\n",
    "data['age_trestbps'] = data['age'] * data['trestbps']  # Example of creating an interaction term\n",
    "\n",
    "# Preparing the data\n",
    "X = data.drop(['target'], axis=1)\n",
    "y = data['target']\n",
    "\n",
    "# Splitting the data into training and test sets with stratification\n",
    "X_train, X_test, y_train, y_test = train_test_split(X, y, test_size=0.10, stratify=y, random_state=42)\n",
    "\n",
    "# Standardize the data\n",
    "scaler = StandardScaler()\n",
    "X_train_scaled = scaler.fit_transform(X_train)\n",
    "X_test_scaled = scaler.transform(X_test)\n",
    "\n",
    "# Define models to train\n",
    "models = {\n",
    "    'Logistic Regression': LogisticRegression(max_iter=10000),\n",
    "    'Random Forest': RandomForestClassifier(),\n",
    "    'Gradient Boosting': GradientBoostingClassifier()\n",
    "}\n",
    "\n",
    "# Grid search parameters for tuning\n",
    "param_grid = {\n",
    "    'Logistic Regression': {\n",
    "        'C': [0.01, 0.1, 1, 10, 100],\n",
    "        'solver': ['liblinear', 'saga']\n",
    "    },\n",
    "    'Random Forest': {\n",
    "        'n_estimators': [100, 200, 300],\n",
    "        'max_depth': [None, 10, 20],\n",
    "        'min_samples_split': [2, 5, 10]\n",
    "    },\n",
    "    'Gradient Boosting': {\n",
    "        'n_estimators': [100, 200, 300],\n",
    "        'learning_rate': [0.01, 0.1, 0.2],\n",
    "        'max_depth': [3, 5, 10]\n",
    "    }\n",
    "}\n",
    "\n",
    "# Train models and tune hyperparameters\n",
    "best_models = {}\n",
    "grid_searches = {}\n",
    "for name, model in models.items():\n",
    "    print(f\"Training {name}...\")\n",
    "    grid_search = GridSearchCV(model, param_grid[name], cv=5, scoring='accuracy')\n",
    "    grid_search.fit(X_train_scaled, y_train)\n",
    "    best_models[name] = grid_search.best_estimator_\n",
    "    grid_searches[name] = grid_search\n",
    "    print(f\"Best parameters for {name}: {grid_search.best_params_}\")\n",
    "    print(f\"Best CV score for {name}: {grid_search.best_score_:.3f}\")\n",
    "\n",
    "# Identifying the best overall model\n",
    "best_overall_model = max(best_models, key=lambda k: best_models[k].score(X_test_scaled, y_test))\n",
    "best_model = best_models[best_overall_model]\n",
    "grid_search_best = grid_searches[best_overall_model]\n",
    "\n",
    "# Evaluate the best model on test data\n",
    "predictions = best_model.predict(X_test_scaled)\n",
    "accuracy = accuracy_score(y_test, predictions)\n",
    "conf_matrix = confusion_matrix(y_test, predictions)\n",
    "class_report = classification_report(y_test, predictions)\n",
    "\n",
    "# Print results for the best model\n",
    "print(f\"\\nBest Model: {best_overall_model}\")\n",
    "print(f\"Best Model Parameters: {grid_search_best.best_params_}\")\n",
    "print(f\"Best Cross-Validation Score: {grid_search_best.best_score_:.3f}\")\n",
    "print(f\"Accuracy: {accuracy:.3f}\")\n",
    "print(f\"Confusion Matrix:\\n{conf_matrix}\")\n",
    "print(f\"Classification Report:\\n{class_report}\")"
   ]
  },
  {
   "cell_type": "code",
   "execution_count": null,
   "id": "441bd8d9-fade-4cb6-b8af-b645aee91ddf",
   "metadata": {},
   "outputs": [],
   "source": []
  }
 ],
 "metadata": {
  "kernelspec": {
   "display_name": "Python 3 (ipykernel)",
   "language": "python",
   "name": "python3"
  },
  "language_info": {
   "codemirror_mode": {
    "name": "ipython",
    "version": 3
   },
   "file_extension": ".py",
   "mimetype": "text/x-python",
   "name": "python",
   "nbconvert_exporter": "python",
   "pygments_lexer": "ipython3",
   "version": "3.11.6"
  }
 },
 "nbformat": 4,
 "nbformat_minor": 5
}
