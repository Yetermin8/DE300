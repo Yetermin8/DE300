{
 "cells": [
  {
   "cell_type": "code",
   "execution_count": 1,
   "id": "e2000518-a267-487f-a690-61ec67a6f54d",
   "metadata": {},
   "outputs": [
    {
     "name": "stdout",
     "output_type": "stream",
     "text": [
      "Collecting boto3\n",
      "  Downloading boto3-1.34.104-py3-none-any.whl.metadata (6.6 kB)\n",
      "Collecting botocore<1.35.0,>=1.34.104 (from boto3)\n",
      "  Downloading botocore-1.34.104-py3-none-any.whl.metadata (5.7 kB)\n",
      "Collecting jmespath<2.0.0,>=0.7.1 (from boto3)\n",
      "  Using cached jmespath-1.0.1-py3-none-any.whl.metadata (7.6 kB)\n",
      "Collecting s3transfer<0.11.0,>=0.10.0 (from boto3)\n",
      "  Using cached s3transfer-0.10.1-py3-none-any.whl.metadata (1.7 kB)\n",
      "Requirement already satisfied: python-dateutil<3.0.0,>=2.1 in /opt/conda/lib/python3.11/site-packages (from botocore<1.35.0,>=1.34.104->boto3) (2.8.2)\n",
      "Requirement already satisfied: urllib3!=2.2.0,<3,>=1.25.4 in /opt/conda/lib/python3.11/site-packages (from botocore<1.35.0,>=1.34.104->boto3) (2.0.7)\n",
      "Requirement already satisfied: six>=1.5 in /opt/conda/lib/python3.11/site-packages (from python-dateutil<3.0.0,>=2.1->botocore<1.35.0,>=1.34.104->boto3) (1.16.0)\n",
      "Downloading boto3-1.34.104-py3-none-any.whl (139 kB)\n",
      "\u001b[2K   \u001b[90m━━━━━━━━━━━━━━━━━━━━━━━━━━━━━━━━━━━━━━━━\u001b[0m \u001b[32m139.3/139.3 kB\u001b[0m \u001b[31m3.7 MB/s\u001b[0m eta \u001b[36m0:00:00\u001b[0ma \u001b[36m0:00:01\u001b[0m\n",
      "\u001b[?25hDownloading botocore-1.34.104-py3-none-any.whl (12.2 MB)\n",
      "\u001b[2K   \u001b[90m━━━━━━━━━━━━━━━━━━━━━━━━━━━━━━━━━━━━━━━━\u001b[0m \u001b[32m12.2/12.2 MB\u001b[0m \u001b[31m68.3 MB/s\u001b[0m eta \u001b[36m0:00:00\u001b[0m:00:01\u001b[0m:01\u001b[0m\n",
      "\u001b[?25hUsing cached jmespath-1.0.1-py3-none-any.whl (20 kB)\n",
      "Using cached s3transfer-0.10.1-py3-none-any.whl (82 kB)\n",
      "Installing collected packages: jmespath, botocore, s3transfer, boto3\n",
      "Successfully installed boto3-1.34.104 botocore-1.34.104 jmespath-1.0.1 s3transfer-0.10.1\n"
     ]
    }
   ],
   "source": [
    "!pip install boto3"
   ]
  },
  {
   "cell_type": "code",
   "execution_count": 2,
   "id": "f3d9bfec-c618-43f8-9c99-b910c282c58d",
   "metadata": {},
   "outputs": [],
   "source": [
    "import boto3\n",
    "from io import BytesIO\n",
    "import pandas as pd"
   ]
  },
  {
   "cell_type": "code",
   "execution_count": 5,
   "id": "1f209e23-b573-457c-93ca-92cab9096962",
   "metadata": {},
   "outputs": [],
   "source": [
    "s3 = boto3.client('s3',\n",
    "                  aws_access_key_id=\"REMOVED\",\n",
    "                  aws_secret_access_key=\"REMOVED\",\n",
    "                  aws_session_token=\"REMOVED\"\n",
    ")\n",
    "\n",
    "bucket_name = 'de300spring2024'\n",
    "object_key = 'yetayal_tizale/heart_disease.csv'"
   ]
  },
  {
   "cell_type": "code",
   "execution_count": 6,
   "id": "367729e8-e04d-405c-afc5-cddaf4a79280",
   "metadata": {},
   "outputs": [],
   "source": [
    "csv_obj = s3.get_object(Bucket=bucket_name, Key=object_key)\n",
    "body = csv_obj['Body']\n",
    "csv_string = body.read().decode('utf-8')"
   ]
  },
  {
   "cell_type": "code",
   "execution_count": 7,
   "id": "689e046b-1a8a-4361-bb5e-057c7a01f54b",
   "metadata": {},
   "outputs": [
    {
     "name": "stdout",
     "output_type": "stream",
     "text": [
      "   age  sex  painloc  painexer  relrest  pncaden  cp  trestbps  htn   chol  \\\n",
      "0   63    1      NaN       NaN      NaN      NaN   1     145.0  1.0  233.0   \n",
      "1   67    1      NaN       NaN      NaN      NaN   4     160.0  1.0  286.0   \n",
      "2   67    1      NaN       NaN      NaN      NaN   4     120.0  1.0  229.0   \n",
      "3   37    1      NaN       NaN      NaN      NaN   3     130.0  0.0  250.0   \n",
      "4   41    0      NaN       NaN      NaN      NaN   2     130.0  1.0  204.0   \n",
      "\n",
      "   ...  exeref  exerwm  thal  thalsev  thalpul  earlobe  cmo  cday   cyr  \\\n",
      "0  ...     NaN     NaN   6.0      NaN      NaN      NaN  2.0  16.0  81.0   \n",
      "1  ...     NaN     NaN   3.0      NaN      NaN      NaN  2.0   5.0  81.0   \n",
      "2  ...     NaN     NaN   7.0      NaN      NaN      NaN  2.0  20.0  81.0   \n",
      "3  ...     NaN     NaN   3.0      NaN      NaN      NaN  2.0   4.0  81.0   \n",
      "4  ...     NaN     NaN   3.0      NaN      NaN      NaN  2.0  18.0  81.0   \n",
      "\n",
      "   target  \n",
      "0       0  \n",
      "1       1  \n",
      "2       1  \n",
      "3       0  \n",
      "4       0  \n",
      "\n",
      "[5 rows x 56 columns]\n"
     ]
    }
   ],
   "source": [
    "df = pd.read_csv(BytesIO(csv_string.encode()))\n",
    "print(df.head())"
   ]
  },
  {
   "cell_type": "code",
   "execution_count": 10,
   "id": "21d991bb-a277-484c-b25d-7f218cf6b28b",
   "metadata": {},
   "outputs": [],
   "source": [
    "df.to_csv('~/data/heart_disease.csv', index=False)"
   ]
  }
 ],
 "metadata": {
  "kernelspec": {
   "display_name": "Python 3 (ipykernel)",
   "language": "python",
   "name": "python3"
  },
  "language_info": {
   "codemirror_mode": {
    "name": "ipython",
    "version": 3
   },
   "file_extension": ".py",
   "mimetype": "text/x-python",
   "name": "python",
   "nbconvert_exporter": "python",
   "pygments_lexer": "ipython3",
   "version": "3.11.6"
  }
 },
 "nbformat": 4,
 "nbformat_minor": 5
}
