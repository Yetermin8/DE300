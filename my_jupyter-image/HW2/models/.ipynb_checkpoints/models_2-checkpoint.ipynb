{
 "cells": [
  {
   "cell_type": "code",
   "execution_count": null,
   "id": "a3c0d049-3d31-4e90-87dc-db6d03d24b43",
   "metadata": {},
   "outputs": [],
   "source": [
    "import pandas as pd\n",
    "from sklearn.model_selection import train_test_split, GridSearchCV\n",
    "from sklearn.ensemble import GradientBoostingClassifier\n",
    "from sklearn.pipeline import Pipeline\n",
    "from sklearn.preprocessing import StandardScaler\n",
    "from sklearn.metrics import accuracy_score, confusion_matrix, classification_report"
   ]
  },
  {
   "cell_type": "code",
   "execution_count": null,
   "id": "92c93d2d-7cb0-4b0d-b1f8-a60832c34cff",
   "metadata": {},
   "outputs": [],
   "source": [
    "# Load your dataset\n",
    "data = pd.read_csv('~/data/heart_disease_cleaned.csv')\n",
    "\n",
    "# Create interaction terms\n",
    "data['age_trestbps'] = data['age'] * data['trestbps']\n",
    "data['smoke_oldpeak'] = data['smoke'] * data['oldpeak']\n",
    "\n",
    "# Preparing the data\n",
    "X = data.drop(['target'], axis=1)\n",
    "y = data['target']\n",
    "\n",
    "# Splitting the data into training and test sets with stratification\n",
    "X_train, X_test, y_train, y_test = train_test_split(X, y, test_size=0.10, stratify=y, random_state=42)\n",
    "\n",
    "# Setup the pipeline\n",
    "pipeline = Pipeline([\n",
    "    ('scaler', StandardScaler()),\n",
    "    ('classifier', GradientBoostingClassifier())\n",
    "])\n",
    "\n",
    "param_grid = {\n",
    "    'classifier__n_estimators': [100, 200],\n",
    "    'classifier__max_depth': [3, 5],\n",
    "    'classifier__learning_rate': [0.01, 0.1]\n",
    "}\n",
    "\n",
    "# Grid search to find the best parameters\n",
    "grid_search = GridSearchCV(pipeline, param_grid, cv=5, scoring='accuracy')\n",
    "grid_search.fit(X_train, y_train)\n",
    "\n",
    "print(f\"Best parameters: {grid_search.best_params_}\")\n",
    "print(f\"Best CV score: {grid_search.best_score_:.3f}\")\n",
    "\n",
    "# Evaluate on test data\n",
    "predictions = grid_search.predict(X_test)\n",
    "\n",
    "print(\"Test Set Performance:\")\n",
    "print(f\"Accuracy: {accuracy_score(y_test, predictions):.3f}\")\n",
    "print(f\"Confusion Matrix:\\n{confusion_matrix(y_test, predictions)}\")\n",
    "print(f\"Classification Report:\\n{classification_report(y_test, predictions)}\")\n"
   ]
  }
 ],
 "metadata": {
  "kernelspec": {
   "display_name": "Python 3 (ipykernel)",
   "language": "python",
   "name": "python3"
  },
  "language_info": {
   "codemirror_mode": {
    "name": "ipython",
    "version": 3
   },
   "file_extension": ".py",
   "mimetype": "text/x-python",
   "name": "python",
   "nbconvert_exporter": "python",
   "pygments_lexer": "ipython3",
   "version": "3.11.6"
  }
 },
 "nbformat": 4,
 "nbformat_minor": 5
}
