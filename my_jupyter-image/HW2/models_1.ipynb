{
 "cells": [
  {
   "cell_type": "code",
   "execution_count": 1,
   "id": "0deafe66-192c-40e5-b558-fa442c9cdc9e",
   "metadata": {},
   "outputs": [
    {
     "name": "stdout",
     "output_type": "stream",
     "text": [
      "Requirement already satisfied: pandas in /opt/conda/lib/python3.11/site-packages (2.1.1)\n",
      "Requirement already satisfied: numpy>=1.23.2 in /opt/conda/lib/python3.11/site-packages (from pandas) (1.24.4)\n",
      "Requirement already satisfied: python-dateutil>=2.8.2 in /opt/conda/lib/python3.11/site-packages (from pandas) (2.8.2)\n",
      "Requirement already satisfied: pytz>=2020.1 in /opt/conda/lib/python3.11/site-packages (from pandas) (2023.3.post1)\n",
      "Requirement already satisfied: tzdata>=2022.1 in /opt/conda/lib/python3.11/site-packages (from pandas) (2023.3)\n",
      "Requirement already satisfied: six>=1.5 in /opt/conda/lib/python3.11/site-packages (from python-dateutil>=2.8.2->pandas) (1.16.0)\n",
      "Requirement already satisfied: scikit-learn in /opt/conda/lib/python3.11/site-packages (1.3.1)\n",
      "Requirement already satisfied: numpy<2.0,>=1.17.3 in /opt/conda/lib/python3.11/site-packages (from scikit-learn) (1.24.4)\n",
      "Requirement already satisfied: scipy>=1.5.0 in /opt/conda/lib/python3.11/site-packages (from scikit-learn) (1.11.3)\n",
      "Requirement already satisfied: joblib>=1.1.1 in /opt/conda/lib/python3.11/site-packages (from scikit-learn) (1.3.2)\n",
      "Requirement already satisfied: threadpoolctl>=2.0.0 in /opt/conda/lib/python3.11/site-packages (from scikit-learn) (3.2.0)\n"
     ]
    }
   ],
   "source": [
    "!pip install pandas\n",
    "!pip install scikit-learn"
   ]
  },
  {
   "cell_type": "code",
   "execution_count": 2,
   "id": "a3c0d049-3d31-4e90-87dc-db6d03d24b43",
   "metadata": {},
   "outputs": [],
   "source": [
    "import pandas as pd\n",
    "from sklearn.model_selection import train_test_split, GridSearchCV, cross_val_score\n",
    "from sklearn.ensemble import RandomForestClassifier\n",
    "from sklearn.linear_model import LogisticRegression\n",
    "from sklearn.tree import DecisionTreeClassifier\n",
    "from sklearn.metrics import accuracy_score, classification_report, confusion_matrix\n",
    "from sklearn.preprocessing import StandardScaler"
   ]
  },
  {
   "cell_type": "code",
   "execution_count": 4,
   "id": "56b49c80-14cb-4dd9-ad25-e1a4986ffed3",
   "metadata": {},
   "outputs": [],
   "source": [
    "# Load your dataset\n",
    "data = pd.read_csv('~/data/heart_disease_cleaned.csv')\n",
    "\n",
    "# Preparing the data\n",
    "X = data.drop(['target'], axis=1)\n",
    "y = data['target']\n",
    "\n",
    "# Splitting the data into training and test sets with stratification\n",
    "X_train, X_test, y_train, y_test = train_test_split(X, y, test_size=0.10, stratify=y, random_state=42)\n",
    "\n",
    "# Standardize the data\n",
    "scaler = StandardScaler()\n",
    "X_train_scaled = scaler.fit_transform(X_train)\n",
    "X_test_scaled = scaler.transform(X_test)\n",
    "\n",
    "# Define models to train\n",
    "models = {\n",
    "    'Logistic Regression': LogisticRegression(max_iter=10000),\n",
    "    'Random Forest': RandomForestClassifier(),\n",
    "    'Decision Tree': DecisionTreeClassifier()\n",
    "}\n",
    "\n",
    "# Grid search parameters for tuning\n",
    "param_grid = {\n",
    "    'Logistic Regression': {'C': [0.01, 0.1, 1, 10, 100]},\n",
    "    'Random Forest': {'n_estimators': [50, 100, 200], 'max_depth': [None, 10, 20, 30]},\n",
    "    'Decision Tree': {'max_depth': [None, 10, 20, 30], 'min_samples_split': [2, 5, 10]}\n",
    "}\n"
   ]
  },
  {
   "cell_type": "code",
   "execution_count": 5,
   "id": "0e4389ce-1f1b-40ad-817f-0f9c4091d6b4",
   "metadata": {},
   "outputs": [
    {
     "name": "stdout",
     "output_type": "stream",
     "text": [
      "Training Logistic Regression...\n",
      "Best parameters for Logistic Regression: {'C': 0.01}\n",
      "Mean CV Score for Logistic Regression: 0.817\n",
      "Training Random Forest...\n",
      "Best parameters for Random Forest: {'max_depth': 20, 'n_estimators': 50}\n",
      "Mean CV Score for Random Forest: 0.801\n",
      "Training Decision Tree...\n",
      "Best parameters for Decision Tree: {'max_depth': None, 'min_samples_split': 10}\n",
      "Mean CV Score for Decision Tree: 0.747\n",
      "\n",
      "Best Model: Logistic Regression\n",
      "Best Model Parameters: {'C': 0.01}\n",
      "Best Cross-Validation Score: 0.817\n",
      "Logistic Regression - Test Set Performance:\n",
      "Accuracy: 0.733\n",
      "Confusion Matrix:\n",
      "[[27 13]\n",
      " [11 39]]\n",
      "Classification Report:\n",
      "              precision    recall  f1-score   support\n",
      "\n",
      "           0       0.71      0.68      0.69        40\n",
      "           1       0.75      0.78      0.76        50\n",
      "\n",
      "    accuracy                           0.73        90\n",
      "   macro avg       0.73      0.73      0.73        90\n",
      "weighted avg       0.73      0.73      0.73        90\n",
      "\n"
     ]
    }
   ],
   "source": [
    "results = {}\n",
    "\n",
    "# Train models and tune hyperparameters\n",
    "for name, model in models.items():\n",
    "    print(f\"Training {name}...\")\n",
    "    grid_search = GridSearchCV(model, param_grid[name], cv=5, scoring='accuracy')\n",
    "    grid_search.fit(X_train_scaled, y_train)\n",
    "    results[name] = {\n",
    "        'best_params': grid_search.best_params_,\n",
    "        'best_estimator': grid_search.best_estimator_,\n",
    "        'cv_scores': cross_val_score(grid_search.best_estimator_, X_train_scaled, y_train, cv=5),\n",
    "        'mean_cv_score': grid_search.best_score_\n",
    "    }\n",
    "    print(f\"Best parameters for {name}: {results[name]['best_params']}\")\n",
    "    print(f\"Mean CV Score for {name}: {results[name]['mean_cv_score']:.3f}\")\n",
    "\n",
    "# Evaluate on test data and find the best model\n",
    "best_model_name = max(results, key=lambda x: results[x]['mean_cv_score'])\n",
    "best_model = results[best_model_name]['best_estimator']\n",
    "\n",
    "best_model.fit(X_train_scaled, y_train)\n",
    "predictions = best_model.predict(X_test_scaled)\n",
    "accuracy = accuracy_score(y_test, predictions)\n",
    "conf_matrix = confusion_matrix(y_test, predictions)\n",
    "class_report = classification_report(y_test, predictions)\n",
    "\n",
    "print(f\"\\nBest Model: {best_model_name}\")\n",
    "print(f\"Best Model Parameters: {results[best_model_name]['best_params']}\")\n",
    "print(f\"Best Cross-Validation Score: {results[best_model_name]['mean_cv_score']:.3f}\")\n",
    "print(f\"{best_model_name} - Test Set Performance:\")\n",
    "print(f\"Accuracy: {accuracy:.3f}\")\n",
    "print(f\"Confusion Matrix:\\n{conf_matrix}\")\n",
    "print(f\"Classification Report:\\n{class_report}\")"
   ]
  },
  {
   "cell_type": "code",
   "execution_count": null,
   "id": "8f0c439c-9292-4c8a-a5e9-17decdb5eb1f",
   "metadata": {},
   "outputs": [],
   "source": []
  }
 ],
 "metadata": {
  "kernelspec": {
   "display_name": "Python 3 (ipykernel)",
   "language": "python",
   "name": "python3"
  },
  "language_info": {
   "codemirror_mode": {
    "name": "ipython",
    "version": 3
   },
   "file_extension": ".py",
   "mimetype": "text/x-python",
   "name": "python",
   "nbconvert_exporter": "python",
   "pygments_lexer": "ipython3",
   "version": "3.11.6"
  }
 },
 "nbformat": 4,
 "nbformat_minor": 5
}
