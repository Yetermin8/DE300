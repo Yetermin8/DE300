{
 "cells": [
  {
   "cell_type": "code",
   "execution_count": null,
   "id": "0576c74d-52df-4d86-827d-2c48f054db64",
   "metadata": {},
   "outputs": [],
   "source": [
    "from pyspark.sql import SparkSession"
   ]
  },
  {
   "cell_type": "code",
   "execution_count": null,
   "id": "cc8abd1b-ff4a-4ecd-adb5-0ece16fae1cd",
   "metadata": {},
   "outputs": [],
   "source": [
    "# Initializing Spark session\n",
    "spark = SparkSession.builder \\\n",
    "    .appName(\"HW3 Spark and AWS Heart Disease Analysis\") \\\n",
    "    .config(\"spark.jars.packages\", \"org.apache.hadoop:hadoop-aws:3.2.0,com.amazonaws:aws-java-sdk-bundle:1.11.375\") \\\n",
    "    .getOrCreate()\n",
    "\n",
    "# Set up S3 configurations\n",
    "spark._jsc.hadoopConfiguration().set(\"fs.s3a.access.key\", \"YOUR_ACCESS_KEY\")\n",
    "spark._jsc.hadoopConfiguration().set(\"fs.s3a.secret.key\", \"YOUR_SECRET_KEY\")\n",
    "spark._jsc.hadoopConfiguration().set(\"fs.s3a.session.token\", \"YOUR_SESSION_TOKEN\")\n",
    "spark._jsc.hadoopConfiguration().set(\"fs.s3a.endpoint\", \"s3.us-east-2.amazonaws.com\")\n",
    "\n",
    "# Loading data from S3\n",
    "s3_bucket = \"de300spring2024\"\n",
    "s3_key = \"yetayal_tizale/HW3_Spark/heart_disease.csv\"\n",
    "\n",
    "df = spark.read.csv(f\"s3a://{s3_bucket}/{s3_key}\", header=True, inferSchema=True)\n",
    "df.show()\n",
    "\n",
    "# Save the DataFrame to a CSV file in the \"data\" folder under HW3\n",
    "df.write.format(\"csv\").option(\"header\", \"true\").save(\"/tmp/HW3/data/heart_disease.csv\")\n",
    "\n",
    "# Stop the Spark session\n",
    "spark.stop()"
   ]
  }
 ],
 "metadata": {
  "kernelspec": {
   "display_name": "Python 3 (ipykernel)",
   "language": "python",
   "name": "python3"
  },
  "language_info": {
   "codemirror_mode": {
    "name": "ipython",
    "version": 3
   },
   "file_extension": ".py",
   "mimetype": "text/x-python",
   "name": "python",
   "nbconvert_exporter": "python",
   "pygments_lexer": "ipython3",
   "version": "3.10.12"
  }
 },
 "nbformat": 4,
 "nbformat_minor": 5
}
