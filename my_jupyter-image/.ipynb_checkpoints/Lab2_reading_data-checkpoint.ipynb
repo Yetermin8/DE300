{
 "cells": [
  {
   "cell_type": "code",
   "execution_count": 1,
   "id": "9a1bbbab-b145-450e-bf90-f91aeb3ee625",
   "metadata": {},
   "outputs": [
    {
     "name": "stdout",
     "output_type": "stream",
     "text": [
      "Collecting boto3\n",
      "  Downloading boto3-1.34.103-py3-none-any.whl.metadata (6.6 kB)\n",
      "Collecting botocore<1.35.0,>=1.34.103 (from boto3)\n",
      "  Downloading botocore-1.34.103-py3-none-any.whl.metadata (5.7 kB)\n",
      "Collecting jmespath<2.0.0,>=0.7.1 (from boto3)\n",
      "  Using cached jmespath-1.0.1-py3-none-any.whl.metadata (7.6 kB)\n",
      "Collecting s3transfer<0.11.0,>=0.10.0 (from boto3)\n",
      "  Downloading s3transfer-0.10.1-py3-none-any.whl.metadata (1.7 kB)\n",
      "Requirement already satisfied: python-dateutil<3.0.0,>=2.1 in /venv/lib/python3.12/site-packages (from botocore<1.35.0,>=1.34.103->boto3) (2.9.0.post0)\n",
      "Requirement already satisfied: urllib3!=2.2.0,<3,>=1.25.4 in /venv/lib/python3.12/site-packages (from botocore<1.35.0,>=1.34.103->boto3) (2.2.1)\n",
      "Requirement already satisfied: six>=1.5 in /venv/lib/python3.12/site-packages (from python-dateutil<3.0.0,>=2.1->botocore<1.35.0,>=1.34.103->boto3) (1.16.0)\n",
      "Downloading boto3-1.34.103-py3-none-any.whl (139 kB)\n",
      "\u001b[2K   \u001b[90m━━━━━━━━━━━━━━━━━━━━━━━━━━━━━━━━━━━━━━━━\u001b[0m \u001b[32m139.3/139.3 kB\u001b[0m \u001b[31m3.4 MB/s\u001b[0m eta \u001b[36m0:00:00\u001b[0ma \u001b[36m0:00:01\u001b[0m\n",
      "\u001b[?25hDownloading botocore-1.34.103-py3-none-any.whl (12.2 MB)\n",
      "\u001b[2K   \u001b[90m━━━━━━━━━━━━━━━━━━━━━━━━━━━━━━━━━━━━━━━━\u001b[0m \u001b[32m12.2/12.2 MB\u001b[0m \u001b[31m61.4 MB/s\u001b[0m eta \u001b[36m0:00:00\u001b[0m00:01\u001b[0m00:01\u001b[0m\n",
      "\u001b[?25hUsing cached jmespath-1.0.1-py3-none-any.whl (20 kB)\n",
      "Downloading s3transfer-0.10.1-py3-none-any.whl (82 kB)\n",
      "\u001b[2K   \u001b[90m━━━━━━━━━━━━━━━━━━━━━━━━━━━━━━━━━━━━━━━━\u001b[0m \u001b[32m82.2/82.2 kB\u001b[0m \u001b[31m8.4 MB/s\u001b[0m eta \u001b[36m0:00:00\u001b[0m\n",
      "\u001b[?25hInstalling collected packages: jmespath, botocore, s3transfer, boto3\n",
      "\u001b[31mERROR: Could not install packages due to an OSError: [Errno 13] Permission denied: '/venv/lib/python3.12/site-packages/jmespath'\n",
      "Check the permissions.\n",
      "\u001b[0m\u001b[31m\n",
      "\u001b[0m"
     ]
    }
   ],
   "source": [
    "!pip install boto3"
   ]
  },
  {
   "cell_type": "code",
   "execution_count": 30,
   "id": "0851033c-65e2-4516-acc0-997b551c4f3b",
   "metadata": {},
   "outputs": [],
   "source": [
    "# Loading required package\n",
    "\n",
    "import boto3\n",
    "from io import BytesIO\n",
    "import pandas as pd\n"
   ]
  },
  {
   "cell_type": "code",
   "execution_count": 31,
   "id": "a2bc5a12-bde2-4842-9dfd-ee06b2c6782a",
   "metadata": {},
   "outputs": [],
   "source": [
    "# you need to change the credentials for yourself\n",
    "\n",
    "s3 = boto3.client('s3',\n",
    "                  aws_access_key_id=\"REMOVED\",\n",
    "                  aws_secret_access_key=\"REMOVED\",\n",
    "                  aws_session_token=\"REMOVED\"\n",
    ")\n",
    "\n",
    "bucket_name = 'de300spring2024'\n",
    "object_key = 'yetayal_tizale/sample_dataset.csv'"
   ]
  },
  {
   "cell_type": "code",
   "execution_count": 32,
   "id": "0e7afefb-23a1-4d80-a910-649fada665da",
   "metadata": {},
   "outputs": [],
   "source": [
    "csv_obj = s3.get_object(Bucket=bucket_name, Key=object_key)\n",
    "body = csv_obj['Body']\n",
    "csv_string = body.read().decode('utf-8')"
   ]
  },
  {
   "cell_type": "code",
   "execution_count": 33,
   "id": "0ad5c6dc-65ef-48a2-b40e-c0c35b898d1b",
   "metadata": {},
   "outputs": [
    {
     "name": "stdout",
     "output_type": "stream",
     "text": [
      "   ID           Name  Age         City\n",
      "0   1       John Doe   28     New York\n",
      "1   2     Jane Smith   32  Los Angeles\n",
      "2   3    Emily Davis   45      Chicago\n",
      "3   4  Michael Brown   22        Miami\n"
     ]
    }
   ],
   "source": [
    "df = pd.read_csv(BytesIO(csv_string.encode()))\n",
    "print(df.head())"
   ]
  }
 ],
 "metadata": {
  "kernelspec": {
   "display_name": "Python 3 (ipykernel)",
   "language": "python",
   "name": "python3"
  },
  "language_info": {
   "codemirror_mode": {
    "name": "ipython",
    "version": 3
   },
   "file_extension": ".py",
   "mimetype": "text/x-python",
   "name": "python",
   "nbconvert_exporter": "python",
   "pygments_lexer": "ipython3",
   "version": "3.12.3"
  }
 },
 "nbformat": 4,
 "nbformat_minor": 5
}
